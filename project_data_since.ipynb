{
 "cells": [
  {
   "cell_type": "code",
   "execution_count": 1,
   "id": "590268b9",
   "metadata": {},
   "outputs": [],
   "source": [
    "import numpy as np\n",
    "import pandas as pd\n",
    "import numpy as np\n",
    "\n",
    "import scipy.stats as st\n",
    "\n",
    "import matplotlib.pyplot as plt\n",
    "import seaborn as sns"
   ]
  },
  {
   "cell_type": "code",
   "execution_count": 2,
   "id": "e8fbe25f",
   "metadata": {},
   "outputs": [
    {
     "name": "stdout",
     "output_type": "stream",
     "text": [
      "     gender        age         residence             study level   \\\n",
      "0    Female  18.000000         from city  university or institute   \n",
      "1    Female  14.130228         from city                   medium   \n",
      "2      male  16.794662  outside the city                secondary   \n",
      "3      male  14.721945  outside the city                   medium   \n",
      "4    Female  18.000000         from city  university or institute   \n",
      "..      ...        ...               ...                      ...   \n",
      "540  Female  18.000000         from city  university or institute   \n",
      "541  Female  18.000000         from city  university or institute   \n",
      "542  Female  18.000000         from city  university or institute   \n",
      "543  Female  18.000000         from city  university or institute   \n",
      "544  Female  18.000000         from city                   medium   \n",
      "\n",
      "              language   family support   \n",
      "0               kurdish              Yes  \n",
      "1               kurdish              Yes  \n",
      "2               kurdish              Yes  \n",
      "3               kurdish              Yes  \n",
      "4               kurdish              Yes  \n",
      "..                  ...              ...  \n",
      "540             english            Maybe  \n",
      "541  Arabic and english              Yes  \n",
      "542             kurdish            Maybe  \n",
      "543             english              Yes  \n",
      "544             kurdish               No  \n",
      "\n",
      "[545 rows x 6 columns]\n"
     ]
    }
   ],
   "source": [
    "mydata = pd.read_excel('data.xlsx')\n",
    "print(mydata)"
   ]
  },
  {
   "cell_type": "code",
   "execution_count": null,
   "id": "9f486447",
   "metadata": {},
   "outputs": [],
   "source": []
  },
  {
   "cell_type": "code",
   "execution_count": 3,
   "id": "a79cbf77",
   "metadata": {},
   "outputs": [
    {
     "name": "stdout",
     "output_type": "stream",
     "text": [
      " gender                              Female\n",
      " age                                   18.0\n",
      " residence                        from city\n",
      "  study level       university or institute\n",
      "  language                          kurdish\n",
      " family support                         Yes\n",
      "Name: 0, dtype: object\n"
     ]
    }
   ],
   "source": [
    "print(mydata.loc[0])\n"
   ]
  },
  {
   "cell_type": "code",
   "execution_count": 4,
   "id": "5f23f1f1",
   "metadata": {},
   "outputs": [
    {
     "name": "stdout",
     "output_type": "stream",
     "text": [
      "   gender        age  residence             study level    language   \\\n",
      "0  Female  18.000000  from city  university or institute     kurdish   \n",
      "1  Female  14.130228  from city                   medium     kurdish   \n",
      "\n",
      "   family support   \n",
      "0              Yes  \n",
      "1              Yes  \n"
     ]
    }
   ],
   "source": [
    "print(mydata.loc[[0,1]])\n"
   ]
  },
  {
   "cell_type": "code",
   "execution_count": 5,
   "id": "bdc5eece",
   "metadata": {},
   "outputs": [
    {
     "data": {
      "text/html": [
       "<div>\n",
       "<style scoped>\n",
       "    .dataframe tbody tr th:only-of-type {\n",
       "        vertical-align: middle;\n",
       "    }\n",
       "\n",
       "    .dataframe tbody tr th {\n",
       "        vertical-align: top;\n",
       "    }\n",
       "\n",
       "    .dataframe thead th {\n",
       "        text-align: right;\n",
       "    }\n",
       "</style>\n",
       "<table border=\"1\" class=\"dataframe\">\n",
       "  <thead>\n",
       "    <tr style=\"text-align: right;\">\n",
       "      <th></th>\n",
       "      <th>gender</th>\n",
       "      <th>age</th>\n",
       "      <th>residence</th>\n",
       "      <th>study level</th>\n",
       "      <th>language</th>\n",
       "      <th>family support</th>\n",
       "    </tr>\n",
       "  </thead>\n",
       "  <tbody>\n",
       "    <tr>\n",
       "      <th>0</th>\n",
       "      <td>Female</td>\n",
       "      <td>18.000000</td>\n",
       "      <td>from city</td>\n",
       "      <td>university or institute</td>\n",
       "      <td>kurdish</td>\n",
       "      <td>Yes</td>\n",
       "    </tr>\n",
       "    <tr>\n",
       "      <th>1</th>\n",
       "      <td>Female</td>\n",
       "      <td>14.130228</td>\n",
       "      <td>from city</td>\n",
       "      <td>medium</td>\n",
       "      <td>kurdish</td>\n",
       "      <td>Yes</td>\n",
       "    </tr>\n",
       "    <tr>\n",
       "      <th>2</th>\n",
       "      <td>male</td>\n",
       "      <td>16.794662</td>\n",
       "      <td>outside the city</td>\n",
       "      <td>secondary</td>\n",
       "      <td>kurdish</td>\n",
       "      <td>Yes</td>\n",
       "    </tr>\n",
       "    <tr>\n",
       "      <th>3</th>\n",
       "      <td>male</td>\n",
       "      <td>14.721945</td>\n",
       "      <td>outside the city</td>\n",
       "      <td>medium</td>\n",
       "      <td>kurdish</td>\n",
       "      <td>Yes</td>\n",
       "    </tr>\n",
       "    <tr>\n",
       "      <th>4</th>\n",
       "      <td>Female</td>\n",
       "      <td>18.000000</td>\n",
       "      <td>from city</td>\n",
       "      <td>university or institute</td>\n",
       "      <td>kurdish</td>\n",
       "      <td>Yes</td>\n",
       "    </tr>\n",
       "    <tr>\n",
       "      <th>...</th>\n",
       "      <td>...</td>\n",
       "      <td>...</td>\n",
       "      <td>...</td>\n",
       "      <td>...</td>\n",
       "      <td>...</td>\n",
       "      <td>...</td>\n",
       "    </tr>\n",
       "    <tr>\n",
       "      <th>540</th>\n",
       "      <td>Female</td>\n",
       "      <td>18.000000</td>\n",
       "      <td>from city</td>\n",
       "      <td>university or institute</td>\n",
       "      <td>english</td>\n",
       "      <td>Maybe</td>\n",
       "    </tr>\n",
       "    <tr>\n",
       "      <th>541</th>\n",
       "      <td>Female</td>\n",
       "      <td>18.000000</td>\n",
       "      <td>from city</td>\n",
       "      <td>university or institute</td>\n",
       "      <td>Arabic and english</td>\n",
       "      <td>Yes</td>\n",
       "    </tr>\n",
       "    <tr>\n",
       "      <th>542</th>\n",
       "      <td>Female</td>\n",
       "      <td>18.000000</td>\n",
       "      <td>from city</td>\n",
       "      <td>university or institute</td>\n",
       "      <td>kurdish</td>\n",
       "      <td>Maybe</td>\n",
       "    </tr>\n",
       "    <tr>\n",
       "      <th>543</th>\n",
       "      <td>Female</td>\n",
       "      <td>18.000000</td>\n",
       "      <td>from city</td>\n",
       "      <td>university or institute</td>\n",
       "      <td>english</td>\n",
       "      <td>Yes</td>\n",
       "    </tr>\n",
       "    <tr>\n",
       "      <th>544</th>\n",
       "      <td>Female</td>\n",
       "      <td>18.000000</td>\n",
       "      <td>from city</td>\n",
       "      <td>medium</td>\n",
       "      <td>kurdish</td>\n",
       "      <td>No</td>\n",
       "    </tr>\n",
       "  </tbody>\n",
       "</table>\n",
       "<p>545 rows × 6 columns</p>\n",
       "</div>"
      ],
      "text/plain": [
       "     gender        age         residence             study level   \\\n",
       "0    Female  18.000000         from city  university or institute   \n",
       "1    Female  14.130228         from city                   medium   \n",
       "2      male  16.794662  outside the city                secondary   \n",
       "3      male  14.721945  outside the city                   medium   \n",
       "4    Female  18.000000         from city  university or institute   \n",
       "..      ...        ...               ...                      ...   \n",
       "540  Female  18.000000         from city  university or institute   \n",
       "541  Female  18.000000         from city  university or institute   \n",
       "542  Female  18.000000         from city  university or institute   \n",
       "543  Female  18.000000         from city  university or institute   \n",
       "544  Female  18.000000         from city                   medium   \n",
       "\n",
       "              language   family support   \n",
       "0               kurdish              Yes  \n",
       "1               kurdish              Yes  \n",
       "2               kurdish              Yes  \n",
       "3               kurdish              Yes  \n",
       "4               kurdish              Yes  \n",
       "..                  ...              ...  \n",
       "540             english            Maybe  \n",
       "541  Arabic and english              Yes  \n",
       "542             kurdish            Maybe  \n",
       "543             english              Yes  \n",
       "544             kurdish               No  \n",
       "\n",
       "[545 rows x 6 columns]"
      ]
     },
     "execution_count": 5,
     "metadata": {},
     "output_type": "execute_result"
    }
   ],
   "source": [
    "mydata.head(546)\n"
   ]
  },
  {
   "cell_type": "code",
   "execution_count": 6,
   "id": "0c9c3d8a",
   "metadata": {},
   "outputs": [
    {
     "name": "stdout",
     "output_type": "stream",
     "text": [
      "type::  gender              object\n",
      " age                float64\n",
      " residence           object\n",
      "  study level        object\n",
      "  language           object\n",
      " family support      object\n",
      "dtype: object\n"
     ]
    }
   ],
   "source": [
    "print(\"type::\", mydata.dtypes)"
   ]
  },
  {
   "cell_type": "code",
   "execution_count": 7,
   "id": "3efb3382",
   "metadata": {},
   "outputs": [
    {
     "name": "stdout",
     "output_type": "stream",
     "text": [
      "shape:: (545, 6)\n"
     ]
    }
   ],
   "source": [
    "print(\"shape::\",mydata.shape)"
   ]
  },
  {
   "cell_type": "code",
   "execution_count": 8,
   "id": "0a568048",
   "metadata": {},
   "outputs": [
    {
     "name": "stdout",
     "output_type": "stream",
     "text": [
      "size:: 3270\n"
     ]
    }
   ],
   "source": [
    "print(\"size::\", mydata.size)"
   ]
  },
  {
   "cell_type": "code",
   "execution_count": 9,
   "id": "681ab2c1",
   "metadata": {},
   "outputs": [
    {
     "data": {
      "text/html": [
       "<div>\n",
       "<style scoped>\n",
       "    .dataframe tbody tr th:only-of-type {\n",
       "        vertical-align: middle;\n",
       "    }\n",
       "\n",
       "    .dataframe tbody tr th {\n",
       "        vertical-align: top;\n",
       "    }\n",
       "\n",
       "    .dataframe thead th {\n",
       "        text-align: right;\n",
       "    }\n",
       "</style>\n",
       "<table border=\"1\" class=\"dataframe\">\n",
       "  <thead>\n",
       "    <tr style=\"text-align: right;\">\n",
       "      <th></th>\n",
       "      <th>gender</th>\n",
       "      <th>age</th>\n",
       "      <th>residence</th>\n",
       "      <th>study level</th>\n",
       "      <th>language</th>\n",
       "      <th>family support</th>\n",
       "    </tr>\n",
       "  </thead>\n",
       "  <tbody>\n",
       "    <tr>\n",
       "      <th>count</th>\n",
       "      <td>545</td>\n",
       "      <td>545.000000</td>\n",
       "      <td>545</td>\n",
       "      <td>545</td>\n",
       "      <td>545</td>\n",
       "      <td>545</td>\n",
       "    </tr>\n",
       "    <tr>\n",
       "      <th>unique</th>\n",
       "      <td>3</td>\n",
       "      <td>NaN</td>\n",
       "      <td>2</td>\n",
       "      <td>4</td>\n",
       "      <td>6</td>\n",
       "      <td>3</td>\n",
       "    </tr>\n",
       "    <tr>\n",
       "      <th>top</th>\n",
       "      <td>Female</td>\n",
       "      <td>NaN</td>\n",
       "      <td>from city</td>\n",
       "      <td>university or institute</td>\n",
       "      <td>kurdish</td>\n",
       "      <td>Yes</td>\n",
       "    </tr>\n",
       "    <tr>\n",
       "      <th>freq</th>\n",
       "      <td>250</td>\n",
       "      <td>NaN</td>\n",
       "      <td>296</td>\n",
       "      <td>288</td>\n",
       "      <td>199</td>\n",
       "      <td>344</td>\n",
       "    </tr>\n",
       "    <tr>\n",
       "      <th>mean</th>\n",
       "      <td>NaN</td>\n",
       "      <td>16.413709</td>\n",
       "      <td>NaN</td>\n",
       "      <td>NaN</td>\n",
       "      <td>NaN</td>\n",
       "      <td>NaN</td>\n",
       "    </tr>\n",
       "    <tr>\n",
       "      <th>std</th>\n",
       "      <td>NaN</td>\n",
       "      <td>2.474654</td>\n",
       "      <td>NaN</td>\n",
       "      <td>NaN</td>\n",
       "      <td>NaN</td>\n",
       "      <td>NaN</td>\n",
       "    </tr>\n",
       "    <tr>\n",
       "      <th>min</th>\n",
       "      <td>NaN</td>\n",
       "      <td>7.327308</td>\n",
       "      <td>NaN</td>\n",
       "      <td>NaN</td>\n",
       "      <td>NaN</td>\n",
       "      <td>NaN</td>\n",
       "    </tr>\n",
       "    <tr>\n",
       "      <th>25%</th>\n",
       "      <td>NaN</td>\n",
       "      <td>14.987810</td>\n",
       "      <td>NaN</td>\n",
       "      <td>NaN</td>\n",
       "      <td>NaN</td>\n",
       "      <td>NaN</td>\n",
       "    </tr>\n",
       "    <tr>\n",
       "      <th>50%</th>\n",
       "      <td>NaN</td>\n",
       "      <td>18.000000</td>\n",
       "      <td>NaN</td>\n",
       "      <td>NaN</td>\n",
       "      <td>NaN</td>\n",
       "      <td>NaN</td>\n",
       "    </tr>\n",
       "    <tr>\n",
       "      <th>75%</th>\n",
       "      <td>NaN</td>\n",
       "      <td>18.000000</td>\n",
       "      <td>NaN</td>\n",
       "      <td>NaN</td>\n",
       "      <td>NaN</td>\n",
       "      <td>NaN</td>\n",
       "    </tr>\n",
       "    <tr>\n",
       "      <th>max</th>\n",
       "      <td>NaN</td>\n",
       "      <td>18.000000</td>\n",
       "      <td>NaN</td>\n",
       "      <td>NaN</td>\n",
       "      <td>NaN</td>\n",
       "      <td>NaN</td>\n",
       "    </tr>\n",
       "  </tbody>\n",
       "</table>\n",
       "</div>"
      ],
      "text/plain": [
       "        gender         age  residence             study level    language   \\\n",
       "count      545  545.000000        545                      545         545   \n",
       "unique       3         NaN          2                        4           6   \n",
       "top     Female         NaN  from city  university or institute     kurdish   \n",
       "freq       250         NaN        296                      288         199   \n",
       "mean       NaN   16.413709        NaN                      NaN         NaN   \n",
       "std        NaN    2.474654        NaN                      NaN         NaN   \n",
       "min        NaN    7.327308        NaN                      NaN         NaN   \n",
       "25%        NaN   14.987810        NaN                      NaN         NaN   \n",
       "50%        NaN   18.000000        NaN                      NaN         NaN   \n",
       "75%        NaN   18.000000        NaN                      NaN         NaN   \n",
       "max        NaN   18.000000        NaN                      NaN         NaN   \n",
       "\n",
       "        family support   \n",
       "count               545  \n",
       "unique                3  \n",
       "top                 Yes  \n",
       "freq                344  \n",
       "mean                NaN  \n",
       "std                 NaN  \n",
       "min                 NaN  \n",
       "25%                 NaN  \n",
       "50%                 NaN  \n",
       "75%                 NaN  \n",
       "max                 NaN  "
      ]
     },
     "execution_count": 9,
     "metadata": {},
     "output_type": "execute_result"
    }
   ],
   "source": [
    "mydata.describe(include=\"all\")"
   ]
  },
  {
   "cell_type": "code",
   "execution_count": 10,
   "id": "3acd5390",
   "metadata": {},
   "outputs": [
    {
     "name": "stdout",
     "output_type": "stream",
     "text": [
      "<class 'pandas.core.frame.DataFrame'>\n",
      "RangeIndex: 545 entries, 0 to 544\n",
      "Data columns (total 6 columns):\n",
      " #   Column            Non-Null Count  Dtype  \n",
      "---  ------            --------------  -----  \n",
      " 0    gender           545 non-null    object \n",
      " 1    age              545 non-null    float64\n",
      " 2    residence        545 non-null    object \n",
      " 3     study level     545 non-null    object \n",
      " 4     language        545 non-null    object \n",
      " 5    family support   545 non-null    object \n",
      "dtypes: float64(1), object(5)\n",
      "memory usage: 25.7+ KB\n"
     ]
    }
   ],
   "source": [
    "mydata.info()\n",
    "\n"
   ]
  },
  {
   "cell_type": "code",
   "execution_count": 11,
   "id": "353042d7",
   "metadata": {},
   "outputs": [
    {
     "name": "stdout",
     "output_type": "stream",
     "text": [
      "     gender        age         residence             study level   \\\n",
      "0    Female  18.000000         from city  university or institute   \n",
      "1    Female  14.130228         from city                   medium   \n",
      "2      male  16.794662  outside the city                secondary   \n",
      "3      male  14.721945  outside the city                   medium   \n",
      "5    Female  18.000000  outside the city  university or institute   \n",
      "..      ...        ...               ...                      ...   \n",
      "535  Female  17.304461  outside the city                secondary   \n",
      "536  Female  16.987477  outside the city                secondary   \n",
      "538    male  16.954397         from city                secondary   \n",
      "541  Female  18.000000         from city  university or institute   \n",
      "544  Female  18.000000         from city                   medium   \n",
      "\n",
      "              language   family support   \n",
      "0               kurdish              Yes  \n",
      "1               kurdish              Yes  \n",
      "2               kurdish              Yes  \n",
      "3               kurdish              Yes  \n",
      "5                arabic               No  \n",
      "..                  ...              ...  \n",
      "535             english              Yes  \n",
      "536             english              Yes  \n",
      "538             kurdish               No  \n",
      "541  Arabic and english              Yes  \n",
      "544             kurdish               No  \n",
      "\n",
      "[352 rows x 6 columns]\n"
     ]
    }
   ],
   "source": [
    "df1= mydata.drop_duplicates()\n",
    "\n",
    "\n",
    "print(df1)"
   ]
  },
  {
   "cell_type": "code",
   "execution_count": 12,
   "id": "a22bf3ad",
   "metadata": {},
   "outputs": [
    {
     "data": {
      "text/plain": [
       "Index([' gender', ' age', ' residence', '  study level ', '  language ',\n",
       "       ' family support '],\n",
       "      dtype='object')"
      ]
     },
     "execution_count": 12,
     "metadata": {},
     "output_type": "execute_result"
    }
   ],
   "source": [
    "mydata.columns"
   ]
  },
  {
   "cell_type": "code",
   "execution_count": 13,
   "id": "9f2415cd",
   "metadata": {},
   "outputs": [
    {
     "data": {
      "text/html": [
       "<div>\n",
       "<style scoped>\n",
       "    .dataframe tbody tr th:only-of-type {\n",
       "        vertical-align: middle;\n",
       "    }\n",
       "\n",
       "    .dataframe tbody tr th {\n",
       "        vertical-align: top;\n",
       "    }\n",
       "\n",
       "    .dataframe thead th {\n",
       "        text-align: right;\n",
       "    }\n",
       "</style>\n",
       "<table border=\"1\" class=\"dataframe\">\n",
       "  <thead>\n",
       "    <tr style=\"text-align: right;\">\n",
       "      <th>residence</th>\n",
       "      <th>from city</th>\n",
       "      <th>outside the city</th>\n",
       "    </tr>\n",
       "    <tr>\n",
       "      <th>gender</th>\n",
       "      <th></th>\n",
       "      <th></th>\n",
       "    </tr>\n",
       "  </thead>\n",
       "  <tbody>\n",
       "    <tr>\n",
       "      <th>Female</th>\n",
       "      <td>142</td>\n",
       "      <td>108</td>\n",
       "    </tr>\n",
       "    <tr>\n",
       "      <th>Prefer not to say</th>\n",
       "      <td>38</td>\n",
       "      <td>45</td>\n",
       "    </tr>\n",
       "    <tr>\n",
       "      <th>male</th>\n",
       "      <td>116</td>\n",
       "      <td>96</td>\n",
       "    </tr>\n",
       "  </tbody>\n",
       "</table>\n",
       "</div>"
      ],
      "text/plain": [
       " residence         from city  outside the city\n",
       " gender                                       \n",
       "Female                   142               108\n",
       "Prefer not to say         38                45\n",
       "male                     116                96"
      ]
     },
     "execution_count": 13,
     "metadata": {},
     "output_type": "execute_result"
    }
   ],
   "source": [
    "pd.crosstab(mydata[' gender'],mydata[' residence'] )"
   ]
  },
  {
   "cell_type": "code",
   "execution_count": 14,
   "id": "8c337909",
   "metadata": {},
   "outputs": [
    {
     "data": {
      "text/html": [
       "<div>\n",
       "<style scoped>\n",
       "    .dataframe tbody tr th:only-of-type {\n",
       "        vertical-align: middle;\n",
       "    }\n",
       "\n",
       "    .dataframe tbody tr th {\n",
       "        vertical-align: top;\n",
       "    }\n",
       "\n",
       "    .dataframe thead th {\n",
       "        text-align: right;\n",
       "    }\n",
       "</style>\n",
       "<table border=\"1\" class=\"dataframe\">\n",
       "  <thead>\n",
       "    <tr style=\"text-align: right;\">\n",
       "      <th>family support</th>\n",
       "      <th>Maybe</th>\n",
       "      <th>No</th>\n",
       "      <th>Yes</th>\n",
       "    </tr>\n",
       "    <tr>\n",
       "      <th>gender</th>\n",
       "      <th></th>\n",
       "      <th></th>\n",
       "      <th></th>\n",
       "    </tr>\n",
       "  </thead>\n",
       "  <tbody>\n",
       "    <tr>\n",
       "      <th>Female</th>\n",
       "      <td>52</td>\n",
       "      <td>34</td>\n",
       "      <td>164</td>\n",
       "    </tr>\n",
       "    <tr>\n",
       "      <th>Prefer not to say</th>\n",
       "      <td>20</td>\n",
       "      <td>12</td>\n",
       "      <td>51</td>\n",
       "    </tr>\n",
       "    <tr>\n",
       "      <th>male</th>\n",
       "      <td>53</td>\n",
       "      <td>30</td>\n",
       "      <td>129</td>\n",
       "    </tr>\n",
       "  </tbody>\n",
       "</table>\n",
       "</div>"
      ],
      "text/plain": [
       " family support    Maybe  No  Yes\n",
       " gender                          \n",
       "Female                52  34  164\n",
       "Prefer not to say     20  12   51\n",
       "male                  53  30  129"
      ]
     },
     "execution_count": 14,
     "metadata": {},
     "output_type": "execute_result"
    }
   ],
   "source": [
    "pd.crosstab(mydata[' gender'],mydata[' family support '] )"
   ]
  },
  {
   "cell_type": "code",
   "execution_count": null,
   "id": "a132aad6",
   "metadata": {},
   "outputs": [],
   "source": []
  },
  {
   "cell_type": "code",
   "execution_count": 15,
   "id": "749ba1fc",
   "metadata": {},
   "outputs": [
    {
     "data": {
      "text/html": [
       "<div>\n",
       "<style scoped>\n",
       "    .dataframe tbody tr th:only-of-type {\n",
       "        vertical-align: middle;\n",
       "    }\n",
       "\n",
       "    .dataframe tbody tr th {\n",
       "        vertical-align: top;\n",
       "    }\n",
       "\n",
       "    .dataframe thead th {\n",
       "        text-align: right;\n",
       "    }\n",
       "</style>\n",
       "<table border=\"1\" class=\"dataframe\">\n",
       "  <thead>\n",
       "    <tr style=\"text-align: right;\">\n",
       "      <th>family support</th>\n",
       "      <th>Maybe</th>\n",
       "      <th>No</th>\n",
       "      <th>Yes</th>\n",
       "    </tr>\n",
       "    <tr>\n",
       "      <th>residence</th>\n",
       "      <th></th>\n",
       "      <th></th>\n",
       "      <th></th>\n",
       "    </tr>\n",
       "  </thead>\n",
       "  <tbody>\n",
       "    <tr>\n",
       "      <th>from city</th>\n",
       "      <td>51</td>\n",
       "      <td>32</td>\n",
       "      <td>213</td>\n",
       "    </tr>\n",
       "    <tr>\n",
       "      <th>outside the city</th>\n",
       "      <td>74</td>\n",
       "      <td>44</td>\n",
       "      <td>131</td>\n",
       "    </tr>\n",
       "  </tbody>\n",
       "</table>\n",
       "</div>"
      ],
      "text/plain": [
       " family support   Maybe  No  Yes\n",
       " residence                      \n",
       "from city            51  32  213\n",
       "outside the city     74  44  131"
      ]
     },
     "execution_count": 15,
     "metadata": {},
     "output_type": "execute_result"
    }
   ],
   "source": [
    "pd.crosstab(mydata[' residence'],mydata[' family support '] )"
   ]
  },
  {
   "cell_type": "code",
   "execution_count": null,
   "id": "c2a7c8a2",
   "metadata": {},
   "outputs": [],
   "source": []
  },
  {
   "cell_type": "code",
   "execution_count": 16,
   "id": "bf7e60c2",
   "metadata": {},
   "outputs": [
    {
     "data": {
      "text/plain": [
       "array([[<Axes: title={'center': ' age'}>]], dtype=object)"
      ]
     },
     "execution_count": 16,
     "metadata": {},
     "output_type": "execute_result"
    },
    {
     "data": {
      "image/png": "[encoded data removed]",
      "text/plain": [
       "<Figure size 400x500 with 1 Axes>"
      ]
     },
     "metadata": {},
     "output_type": "display_data"
    }
   ],
   "source": [
    "import matplotlib.pyplot as plt\n",
    "%matplotlib inline\n",
    "\n",
    "mydata.hist(figsize=(4,5))\n"
   ]
  },
  {
   "cell_type": "code",
   "execution_count": 17,
   "id": "c3e74426",
   "metadata": {
    "scrolled": true
   },
   "outputs": [
    {
     "data": {
      "text/plain": [
       "<Axes: xlabel=' age', ylabel='  study level '>"
      ]
     },
     "execution_count": 17,
     "metadata": {},
     "output_type": "execute_result"
    },
    {
     "data": {
      "image/png": "[encoded data removed]",
      "text/plain": [
       "<Figure size 640x480 with 1 Axes>"
      ]
     },
     "metadata": {},
     "output_type": "display_data"
    }
   ],
   "source": [
    "import seaborn as sns\n",
    "\n",
    "sns.boxplot(x=\" age\", y=\"  study level \", data=mydata)"
   ]
  },
  {
   "cell_type": "code",
   "execution_count": 19,
   "id": "60667677",
   "metadata": {},
   "outputs": [
    {
     "data": {
      "text/plain": [
       "<Axes: xlabel=' age', ylabel=' family support '>"
      ]
     },
     "execution_count": 19,
     "metadata": {},
     "output_type": "execute_result"
    },
    {
     "data": {
      "image/png": "[encoded data removed]",
      "text/plain": [
       "<Figure size 640x480 with 1 Axes>"
      ]
     },
     "metadata": {},
     "output_type": "display_data"
    }
   ],
   "source": [
    "import seaborn as sns\n",
    "\n",
    "sns.boxplot(y=\" family support \", x=\" age\", data=mydata)"
   ]
  },
  {
   "cell_type": "code",
   "execution_count": 15,
   "id": "6740d819",
   "metadata": {},
   "outputs": [
    {
     "data": {
      "text/plain": [
       "<Axes: xlabel=' residence', ylabel='count'>"
      ]
     },
     "execution_count": 15,
     "metadata": {},
     "output_type": "execute_result"
    },
    {
     "data": {
      "image/png": "[encoded data removed]",
      "text/plain": [
       "<Figure size 640x480 with 1 Axes>"
      ]
     },
     "metadata": {},
     "output_type": "display_data"
    }
   ],
   "source": [
    "    sns.countplot(x=\" residence\", hue=\" family support \", data=mydata)"
   ]
  },
  {
   "cell_type": "code",
   "execution_count": 16,
   "id": "dfe06756",
   "metadata": {},
   "outputs": [
    {
     "data": {
      "text/plain": [
       "<Axes: xlabel=' residence', ylabel='count'>"
      ]
     },
     "execution_count": 16,
     "metadata": {},
     "output_type": "execute_result"
    },
    {
     "data": {
      "image/png": "[encoded data removed]",
      "text/plain": [
       "<Figure size 640x480 with 1 Axes>"
      ]
     },
     "metadata": {},
     "output_type": "display_data"
    }
   ],
   "source": [
    "sns.countplot(x=\" residence\", hue=\"  study level \", data=mydata)"
   ]
  },
  {
   "cell_type": "code",
   "execution_count": 17,
   "id": "0f7239b6",
   "metadata": {},
   "outputs": [
    {
     "data": {
      "text/plain": [
       "<Axes: xlabel=' residence', ylabel='count'>"
      ]
     },
     "execution_count": 17,
     "metadata": {},
     "output_type": "execute_result"
    },
    {
     "data": {
      "image/png": "[encoded data removed]",
      "text/plain": [
       "<Figure size 640x480 with 1 Axes>"
      ]
     },
     "metadata": {},
     "output_type": "display_data"
    }
   ],
   "source": [
    "sns.countplot(x=\" residence\", hue=\" gender\", data=mydata)"
   ]
  },
  {
   "cell_type": "code",
   "execution_count": 21,
   "id": "80a2926d",
   "metadata": {},
   "outputs": [
    {
     "name": "stderr",
     "output_type": "stream",
     "text": [
      "C:\\ProgramData\\anaconda3\\Lib\\site-packages\\seaborn\\axisgrid.py:118: UserWarning: The figure layout has changed to tight\n",
      "  self._figure.tight_layout(*args, **kwargs)\n"
     ]
    },
    {
     "data": {
      "text/plain": [
       "<seaborn.axisgrid.FacetGrid at 0x1ecde5dbad0>"
      ]
     },
     "execution_count": 21,
     "metadata": {},
     "output_type": "execute_result"
    },
    {
     "data": {
      "image/png": "[encoded data removed]",
      "text/plain": [
       "<Figure size 500x500 with 1 Axes>"
      ]
     },
     "metadata": {},
     "output_type": "display_data"
    }
   ],
   "source": [
    "sns.displot(mydata[' gender'])"
   ]
  },
  {
   "cell_type": "code",
   "execution_count": 22,
   "id": "a25b37c1",
   "metadata": {},
   "outputs": [
    {
     "name": "stderr",
     "output_type": "stream",
     "text": [
      "C:\\ProgramData\\anaconda3\\Lib\\site-packages\\seaborn\\axisgrid.py:118: UserWarning: The figure layout has changed to tight\n",
      "  self._figure.tight_layout(*args, **kwargs)\n"
     ]
    },
    {
     "data": {
      "text/plain": [
       "<seaborn.axisgrid.FacetGrid at 0x1ecde799790>"
      ]
     },
     "execution_count": 22,
     "metadata": {},
     "output_type": "execute_result"
    },
    {
     "data": {
      "image/png": "[encoded data removed]",
      "text/plain": [
       "<Figure size 500x500 with 1 Axes>"
      ]
     },
     "metadata": {},
     "output_type": "display_data"
    }
   ],
   "source": [
    "sns.displot(mydata[' age'])"
   ]
  },
  {
   "cell_type": "code",
   "execution_count": null,
   "id": "ccef1f4a",
   "metadata": {},
   "outputs": [],
   "source": []
  },
  {
   "cell_type": "code",
   "execution_count": 27,
   "id": "bfef9cd3",
   "metadata": {},
   "outputs": [
    {
     "name": "stdout",
     "output_type": "stream",
     "text": [
      "18.0\n"
     ]
    }
   ],
   "source": [
    "    median_value = mydata[' age'].median()\n",
    "    print( median_value)"
   ]
  },
  {
   "cell_type": "code",
   "execution_count": 23,
   "id": "306af106",
   "metadata": {},
   "outputs": [
    {
     "name": "stderr",
     "output_type": "stream",
     "text": [
      "C:\\ProgramData\\anaconda3\\Lib\\site-packages\\seaborn\\axisgrid.py:118: UserWarning: The figure layout has changed to tight\n",
      "  self._figure.tight_layout(*args, **kwargs)\n"
     ]
    },
    {
     "data": {
      "text/plain": [
       "<seaborn.axisgrid.FacetGrid at 0x20f853b5210>"
      ]
     },
     "execution_count": 23,
     "metadata": {},
     "output_type": "execute_result"
    },
    {
     "data": {
      "image/png": "[encoded data removed]",
      "text/plain": [
       "<Figure size 500x500 with 1 Axes>"
      ]
     },
     "metadata": {},
     "output_type": "display_data"
    }
   ],
   "source": [
    "sns.displot(mydata[' residence'])"
   ]
  },
  {
   "cell_type": "code",
   "execution_count": 24,
   "id": "800012dc",
   "metadata": {},
   "outputs": [
    {
     "name": "stderr",
     "output_type": "stream",
     "text": [
      "C:\\ProgramData\\anaconda3\\Lib\\site-packages\\seaborn\\axisgrid.py:118: UserWarning: The figure layout has changed to tight\n",
      "  self._figure.tight_layout(*args, **kwargs)\n"
     ]
    },
    {
     "data": {
      "text/plain": [
       "<seaborn.axisgrid.FacetGrid at 0x20f8543e290>"
      ]
     },
     "execution_count": 24,
     "metadata": {},
     "output_type": "execute_result"
    },
    {
     "data": {
      "image/png": "[encoded data removed]",
      "text/plain": [
       "<Figure size 500x500 with 1 Axes>"
      ]
     },
     "metadata": {},
     "output_type": "display_data"
    }
   ],
   "source": [
    "sns.displot(mydata['  study level '])"
   ]
  },
  {
   "cell_type": "code",
   "execution_count": 25,
   "id": "fe5ae032",
   "metadata": {},
   "outputs": [
    {
     "name": "stderr",
     "output_type": "stream",
     "text": [
      "C:\\ProgramData\\anaconda3\\Lib\\site-packages\\seaborn\\axisgrid.py:118: UserWarning: The figure layout has changed to tight\n",
      "  self._figure.tight_layout(*args, **kwargs)\n"
     ]
    },
    {
     "data": {
      "text/plain": [
       "<seaborn.axisgrid.FacetGrid at 0x20f8536e210>"
      ]
     },
     "execution_count": 25,
     "metadata": {},
     "output_type": "execute_result"
    },
    {
     "data": {
      "image/png": "[encoded data removed]",
      "text/plain": [
       "<Figure size 500x500 with 1 Axes>"
      ]
     },
     "metadata": {},
     "output_type": "display_data"
    }
   ],
   "source": [
    " sns.displot(mydata['  language '])\n"
   ]
  },
  {
   "cell_type": "code",
   "execution_count": 22,
   "id": "239ac2c0",
   "metadata": {},
   "outputs": [
    {
     "data": {
      "image/png": "[encoded data removed]",
      "text/plain": [
       "<Figure size 640x480 with 1 Axes>"
      ]
     },
     "metadata": {},
     "output_type": "display_data"
    }
   ],
   "source": [
    "fig, ax = plt.subplots()\n",
    "x = st.skewnorm.rvs(10, size=1000)\n",
    "\n",
    "x[0:20]\n",
    "_ = plt.hist(x, color = 'lightgray')"
   ]
  },
  {
   "cell_type": "code",
   "execution_count": 39,
   "id": "52c7990a",
   "metadata": {},
   "outputs": [
    {
     "data": {
      "image/png": "[encoded data removed]",
      "text/plain": [
       "<Figure size 640x480 with 1 Axes>"
      ]
     },
     "metadata": {},
     "output_type": "display_data"
    }
   ],
   "source": [
    "fig, ax = plt.subplots()\n",
    "plt.axvline(x = np.mean(x), color='orange')\n",
    "plt.axvline(x = np.median(x), color='green')\n",
    "_ = plt.hist(x, color = 'pink')"
   ]
  },
  {
   "cell_type": "code",
   "execution_count": 35,
   "id": "fa82eec6",
   "metadata": {},
   "outputs": [
    {
     "data": {
      "image/png": "[encoded data removed]",
      "text/plain": [
       "<Figure size 640x480 with 1 Axes>"
      ]
     },
     "metadata": {},
     "output_type": "display_data"
    }
   ],
   "source": [
    "fig, ax = plt.subplots()\n",
    "plt.axvline(x = x.mean()+10, color='green')\n",
    "_ = plt.hist(x, color = 'lightgrey')"
   ]
  },
  {
   "cell_type": "code",
   "execution_count": null,
   "id": "a6d3430b",
   "metadata": {},
   "outputs": [],
   "source": [
    "\n"
   ]
  },
  {
   "cell_type": "code",
   "execution_count": 45,
   "id": "bfbbb837",
   "metadata": {},
   "outputs": [
    {
     "data": {
      "text/plain": [
       "0.007057786283665037"
      ]
     },
     "execution_count": 45,
     "metadata": {},
     "output_type": "execute_result"
    }
   ],
   "source": [
    "x.mean()"
   ]
  },
  {
   "cell_type": "code",
   "execution_count": 46,
   "id": "82b6a23c",
   "metadata": {},
   "outputs": [
    {
     "data": {
      "text/plain": [
       "1.0090953421640003"
      ]
     },
     "execution_count": 46,
     "metadata": {},
     "output_type": "execute_result"
    }
   ],
   "source": [
    "x.std()"
   ]
  },
  {
   "cell_type": "code",
   "execution_count": 47,
   "id": "db130ff2",
   "metadata": {},
   "outputs": [
    {
     "data": {
      "text/plain": [
       "array([ 0.31635078, -0.88020494,  1.43380032, -0.2799523 , -2.0717477 ,\n",
       "       -0.45803536, -0.56794731, -2.02337674,  0.11817256,  1.1737507 ,\n",
       "       -1.8569389 ])"
      ]
     },
     "execution_count": 47,
     "metadata": {},
     "output_type": "execute_result"
    }
   ],
   "source": [
    "x_sample = np.random.choice(x, size=11, replace=False)\n",
    "x_sample"
   ]
  },
  {
   "cell_type": "code",
   "execution_count": 48,
   "id": "dd201a90",
   "metadata": {},
   "outputs": [
    {
     "data": {
      "text/plain": [
       "-0.46328444384780365"
      ]
     },
     "execution_count": 48,
     "metadata": {},
     "output_type": "execute_result"
    }
   ],
   "source": [
    "x_sample.mean()"
   ]
  },
  {
   "cell_type": "code",
   "execution_count": null,
   "id": "91be4eef",
   "metadata": {},
   "outputs": [],
   "source": []
  }
 ],
 "metadata": {
  "kernelspec": {
   "display_name": "Python 3 (ipykernel)",
   "language": "python",
   "name": "python3"
  },
  "language_info": {
   "codemirror_mode": {
    "name": "ipython",
    "version": 3
   },
   "file_extension": ".py",
   "mimetype": "text/x-python",
   "name": "python",
   "nbconvert_exporter": "python",
   "pygments_lexer": "ipython3",
   "version": "3.11.5"
  }
 },
 "nbformat": 4,
 "nbformat_minor": 5
}
